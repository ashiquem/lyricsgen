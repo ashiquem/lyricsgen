{
 "cells": [
  {
   "cell_type": "code",
   "execution_count": 126,
   "metadata": {},
   "outputs": [],
   "source": [
    "import requests\n",
    "from bs4 import BeautifulSoup as bs\n",
    "import pandas as pd\n",
    "import warnings"
   ]
  },
  {
   "cell_type": "markdown",
   "metadata": {},
   "source": [
    "### Fetching Lyrics from Genius "
   ]
  },
  {
   "cell_type": "code",
   "execution_count": null,
   "metadata": {},
   "outputs": [],
   "source": [
    "token = open('token.txt','r').readline()"
   ]
  },
  {
   "cell_type": "code",
   "execution_count": 127,
   "metadata": {},
   "outputs": [],
   "source": [
    "def fetch_song_info(artist,title,token):\n",
    "    genius_api_url = 'https://api.genius.com'\n",
    "    headers = {'Authorization': 'Bearer ' + token}\n",
    "    search_url = genius_api_url + '/search'\n",
    "    query = {'q':title + '' + artist}\n",
    "    response = requests.get(search_url,data=query,headers=headers)\n",
    "    search_hits = response.json()['response']['hits']\n",
    "    song_path = ''\n",
    "    \n",
    "    for hit in search_hits:\n",
    "        a = hit['result']['primary_artist']['name']\n",
    "        t = hit['result']['title'] \n",
    "        \n",
    "        if a == artist and t == title:\n",
    "            song_path = hit['result']['path']\n",
    "            break\n",
    "    \n",
    "    if len(song_path) == 0:\n",
    "        warnings.warn('No matching result found')\n",
    "    \n",
    "    return response,song_path"
   ]
  },
  {
   "cell_type": "code",
   "execution_count": null,
   "metadata": {},
   "outputs": [],
   "source": [
    "def scrape_lyrics(path):\n",
    "    genius_web = 'https://genius.com/'\n",
    "    page = requests.get(genius_web+song_path).content\n",
    "    soup = bs(page,'html.parser')\n",
    "    lyrics_content = soup.find('div',class_='lyrics').findAll('a')\n",
    "    lyrics = []\n",
    "    \n",
    "    for i in range(len(lyrics_content)):\n",
    "        lyrics.append(lyrics_content[i].get_text())\n",
    "    \n",
    "    return lyrics"
   ]
  },
  {
   "cell_type": "code",
   "execution_count": null,
   "metadata": {},
   "outputs": [],
   "source": [
    "response,song_path = fetch_song_info('Radiohead','true love waits',token)"
   ]
  },
  {
   "cell_type": "code",
   "execution_count": null,
   "metadata": {},
   "outputs": [],
   "source": [
    "lyrics = scrape_lyrics(song_path)"
   ]
  },
  {
   "cell_type": "code",
   "execution_count": null,
   "metadata": {},
   "outputs": [],
   "source": [
    "for verse in lyrics:\n",
    "    print(verse)"
   ]
  },
  {
   "cell_type": "markdown",
   "metadata": {},
   "source": [
    "### Billboard Hot 100 Songs "
   ]
  },
  {
   "cell_type": "code",
   "execution_count": null,
   "metadata": {},
   "outputs": [],
   "source": [
    "def get_hot_100(date):\n",
    "    \"\"\"Function to scrape the Billboard Hot 100 tracks\n",
    "       \n",
    "       Parameters:\n",
    "       -----------\n",
    "       date(string): date to fetch data for. should be of YYYY-MM-DD format\n",
    "       \n",
    "       Returns:\n",
    "       --------\n",
    "       pandas dataframe containing the artist names and track titles\n",
    "    \n",
    "    \"\"\"\n",
    "    \n",
    "    url = 'https://www.billboard.com/charts/hot-100/' + date\n",
    "    response = requests.get(url)\n",
    "    hot_soup = bs(response.content,'html.parser')\n",
    "    \n",
    "    no1_artist = hot_soup.find('div',class_=\"chart-number-one__artist\").text.split('\\n')[2]\n",
    "    no1_title = hot_soup.find('div',class_=\"chart-number-one__title\").text\n",
    "    \n",
    "    artists = [item[\"data-artist\"] for item in hot_soup.find_all('div',class_=\"chart-list-item\") if \"data-artist\" in item.attrs]\n",
    "    titles = [item[\"data-title\"] for item in hot_soup.find_all('div',class_=\"chart-list-item\") if \"data-title\" in item.attrs]\n",
    "    \n",
    "    artists = [no1_artist] + artists\n",
    "    titles = [no1_title] + titles\n",
    "    \n",
    "    hot100 = pd.DataFrame({'Artist':artists,'Title':titles})\n",
    "    \n",
    "    return hot100"
   ]
  },
  {
   "cell_type": "code",
   "execution_count": 129,
   "metadata": {},
   "outputs": [
    {
     "data": {
      "text/html": [
       "<div>\n",
       "<style scoped>\n",
       "    .dataframe tbody tr th:only-of-type {\n",
       "        vertical-align: middle;\n",
       "    }\n",
       "\n",
       "    .dataframe tbody tr th {\n",
       "        vertical-align: top;\n",
       "    }\n",
       "\n",
       "    .dataframe thead th {\n",
       "        text-align: right;\n",
       "    }\n",
       "</style>\n",
       "<table border=\"1\" class=\"dataframe\">\n",
       "  <thead>\n",
       "    <tr style=\"text-align: right;\">\n",
       "      <th></th>\n",
       "      <th>Artist</th>\n",
       "      <th>Title</th>\n",
       "    </tr>\n",
       "  </thead>\n",
       "  <tbody>\n",
       "    <tr>\n",
       "      <th>0</th>\n",
       "      <td>Ed Sheeran</td>\n",
       "      <td>Perfect</td>\n",
       "    </tr>\n",
       "    <tr>\n",
       "      <th>1</th>\n",
       "      <td>Post Malone Featuring 21 Savage</td>\n",
       "      <td>Rockstar</td>\n",
       "    </tr>\n",
       "    <tr>\n",
       "      <th>2</th>\n",
       "      <td>Camila Cabello Featuring Young Thug</td>\n",
       "      <td>Havana</td>\n",
       "    </tr>\n",
       "    <tr>\n",
       "      <th>3</th>\n",
       "      <td>Lil Pump</td>\n",
       "      <td>Gucci Gang</td>\n",
       "    </tr>\n",
       "    <tr>\n",
       "      <th>4</th>\n",
       "      <td>G-Eazy Featuring A$AP Rocky &amp; Cardi B</td>\n",
       "      <td>No Limit</td>\n",
       "    </tr>\n",
       "  </tbody>\n",
       "</table>\n",
       "</div>"
      ],
      "text/plain": [
       "                                  Artist       Title\n",
       "0                             Ed Sheeran     Perfect\n",
       "1        Post Malone Featuring 21 Savage    Rockstar\n",
       "2    Camila Cabello Featuring Young Thug      Havana\n",
       "3                               Lil Pump  Gucci Gang\n",
       "4  G-Eazy Featuring A$AP Rocky & Cardi B    No Limit"
      ]
     },
     "execution_count": 129,
     "metadata": {},
     "output_type": "execute_result"
    }
   ],
   "source": [
    "get_hot_100('2018-01-01').head()"
   ]
  }
 ],
 "metadata": {
  "kernelspec": {
   "display_name": "Python 3",
   "language": "python",
   "name": "python3"
  },
  "language_info": {
   "codemirror_mode": {
    "name": "ipython",
    "version": 3
   },
   "file_extension": ".py",
   "mimetype": "text/x-python",
   "name": "python",
   "nbconvert_exporter": "python",
   "pygments_lexer": "ipython3",
   "version": "3.6.4"
  }
 },
 "nbformat": 4,
 "nbformat_minor": 2
}
