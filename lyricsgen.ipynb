{
 "cells": [
  {
   "cell_type": "code",
   "execution_count": 56,
   "metadata": {},
   "outputs": [],
   "source": [
    "import requests\n",
    "from bs4 import BeautifulSoup as bs"
   ]
  },
  {
   "cell_type": "code",
   "execution_count": 71,
   "metadata": {},
   "outputs": [],
   "source": [
    "token = open('token.txt','r').readline()"
   ]
  },
  {
   "cell_type": "code",
   "execution_count": 72,
   "metadata": {},
   "outputs": [],
   "source": [
    "def fetch_song_info(artist,title,token):\n",
    "    genius_api_url = 'https://api.genius.com'\n",
    "    headers = {'Authorization': 'Bearer ' + token}\n",
    "    search_url = genius_api_url + '/search'\n",
    "    query = {'q':title + '' + artist}\n",
    "    response = requests.get(search_url,data=query,headers=headers)\n",
    "    song_path = response.json()['response']['hits'][0]['result']['path']\n",
    "    return response,song_path"
   ]
  },
  {
   "cell_type": "code",
   "execution_count": 73,
   "metadata": {},
   "outputs": [],
   "source": [
    "def scrape_lyrics(path):\n",
    "    genius_web = 'https://genius.com/'\n",
    "    page = requests.get(genius_web+song_path).content\n",
    "    soup = bs(page,'html.parser')\n",
    "    lyrics_content = soup.find('div',class_='lyrics').findAll('a')\n",
    "    lyrics = []\n",
    "    \n",
    "    for i in range(len(lyrics_content)):\n",
    "        lyrics.append(lyrics_content[i].get_text())\n",
    "    \n",
    "    return lyrics"
   ]
  },
  {
   "cell_type": "code",
   "execution_count": 74,
   "metadata": {},
   "outputs": [],
   "source": [
    "response,song_path = fetch_song_info('Radiohead','true love waits',token)"
   ]
  },
  {
   "cell_type": "code",
   "execution_count": 76,
   "metadata": {},
   "outputs": [],
   "source": [
    "lyrics = scrape_lyrics(song_path)"
   ]
  },
  {
   "cell_type": "code",
   "execution_count": 78,
   "metadata": {},
   "outputs": [
    {
     "name": "stdout",
     "output_type": "stream",
     "text": [
      "I’ll drown my beliefs\n",
      "To have your babies\n",
      "I’ll dress like your niece\n",
      "And wash your swollen feet\n",
      "Just don’t leave\n",
      "Don’t leave\n",
      "I’m not living\n",
      "I’m just killing time\n",
      "Your tiny hands\n",
      "Your crazy kitten smile\n",
      "Just don’t leave\n",
      "Don’t leave\n",
      "And true love waits\n",
      "In haunted attics\n",
      "And true love lives\n",
      "On lollipops and crisps\n",
      "Just don’t leave\n",
      "Don’t leave\n"
     ]
    }
   ],
   "source": [
    "for verse in lyrics:\n",
    "    print(verse)"
   ]
  },
  {
   "cell_type": "code",
   "execution_count": 4,
   "metadata": {},
   "outputs": [],
   "source": [
    "base_url = 'https://api.genius.com'\n",
    "headers = {'Authorization': 'Bearer ' + ''}\n",
    "search_url = base_url + '/search'\n",
    "data = {'q': 'daydreaming' + ' ' + 'Radiohead'}\n",
    "response = requests.get(search_url, data=data, headers=headers)"
   ]
  },
  {
   "cell_type": "code",
   "execution_count": 5,
   "metadata": {},
   "outputs": [],
   "source": [
    "song_path = response.json()['response']['hits'][0]['result']['path']"
   ]
  },
  {
   "cell_type": "code",
   "execution_count": 6,
   "metadata": {},
   "outputs": [],
   "source": [
    "lyrics_page = requests.get(genius_web+song_path)"
   ]
  },
  {
   "cell_type": "code",
   "execution_count": 12,
   "metadata": {},
   "outputs": [],
   "source": [
    "page_html = BeautifulSoup(lyrics_page.content,'html.parser')"
   ]
  },
  {
   "cell_type": "code",
   "execution_count": 45,
   "metadata": {},
   "outputs": [],
   "source": [
    "lyrics_content = page_html.find('div',class_='lyrics').findAll('a')"
   ]
  },
  {
   "cell_type": "code",
   "execution_count": 63,
   "metadata": {},
   "outputs": [],
   "source": [
    "lyr = []\n",
    "for i in range(len(lyrics_content)):\n",
    "    lyr.append(lyrics_content[i].get_text())"
   ]
  }
 ],
 "metadata": {
  "kernelspec": {
   "display_name": "Python 3",
   "language": "python",
   "name": "python3"
  },
  "language_info": {
   "codemirror_mode": {
    "name": "ipython",
    "version": 3
   },
   "file_extension": ".py",
   "mimetype": "text/x-python",
   "name": "python",
   "nbconvert_exporter": "python",
   "pygments_lexer": "ipython3",
   "version": "3.6.4"
  }
 },
 "nbformat": 4,
 "nbformat_minor": 2
}
